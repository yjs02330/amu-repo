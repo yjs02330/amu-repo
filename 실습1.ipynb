import java.util.*;

public class RailwayRoute {

    // 인접리스트로 노선도 표현
    static Map<String, List<String>> routeMap = new HashMap<>();

    static {
        // 서울의 경로
        List<String> 서울경로 = new ArrayList<>();
        서울경로.add("원주");
        서울경로.add("천안");
        routeMap.put("서울", 서울경로);

        // 원주의 경로
        List<String> 원주경로 = new ArrayList<>();
        원주경로.add("평창");
        원주경로.add("안동");
        routeMap.put("원주", 원주경로);

        // 평창의 경로
        List<String> 평창경로 = new ArrayList<>();
        평창경로.add("강릉");
        routeMap.put("평창", 평창경로);

        // 강릉의 경로 (종점)
        List<String> 강릉경로 = new ArrayList<>();
        routeMap.put("강릉", 강릉경로);

        // 안동의 경로 (종점)
        List<String> 안동경로 = new ArrayList<>();
        routeMap.put("안동", 안동경로);

        // 천안의 경로
        List<String> 천안경로 = new ArrayList<>();
        천안경로.add("대전");
        천안경로.add("공주");
        routeMap.put("천안", 천안경로);

        // 대전의 경로
        List<String> 대전경로 = new ArrayList<>();
        대전경로.add("대구");
        대전경로.add("익산");
        routeMap.put("대전", 대전경로);

        // 대구의 경로
        List<String> 대구경로 = new ArrayList<>();
        대구경로.add("부산");
        routeMap.put("대구", 대구경로);

        // 부산의 경로 (종점)
        List<String> 부산경로 = new ArrayList<>();
        routeMap.put("부산", 부산경로);

        // 공주의 경로
        List<String> 공주경로 = new ArrayList<>();
        공주경로.add("익산");
        routeMap.put("공주", 공주경로);

        // 익산의 경로
        List<String> 익산경로 = new ArrayList<>();
        익산경로.add("광주");
        익산경로.add("전주");
        routeMap.put("익산", 익산경로);

        // 광주의 경로
        List<String> 광주경로 = new ArrayList<>();
        광주경로.add("목포");
        routeMap.put("광주", 광주경로);

        // 목포의 경로 (종점)
        List<String> 목포경로 = new ArrayList<>();
        routeMap.put("목포", 목포경로);

        // 전주의 경로
        List<String> 전주경로 = new ArrayList<>();
        전주경로.add("여수");
        routeMap.put("전주", 전주경로);

        // 여수의 경로 (종점)
        List<String> 여수경로 = new ArrayList<>();
        routeMap.put("여수", 여수경로);
    }

    // 출발지(orig)로부터 도착지(dest)까지 하행선 노선이 연결되어 있는지 판별하는 함수
    static boolean hasPath(String orig, String dest) {
        if (orig.equals(dest)) {
            return true;  // 출발지와 도착지가 같으면 true
        }

        // 출발지(orig)에 인접한 도시들을 가져옴
        List<String> neighbors = routeMap.get(orig);
        if (neighbors == null || neighbors.isEmpty()) {
            return false;  // 인접한 도시가 없으면 경로가 없으므로 false
        }

        // 인접 도시들 중 하나라도 도착지(dest)에 연결되어 있으면 true
        for (String neighbor : neighbors) {
            if (hasPath(neighbor, dest)) {
                return true;
            }
        }

        return false;  // 인접 도시들 중 도착지까지 경로가 없으면 false
    }

    public static void main(String[] args) {
        // 몇몇 도시들로 hasPath 함수를 테스트
        System.out.println("서울에서 부산까지: " + hasPath("서울", "부산"));  // true
        System.out.println("서울에서 강릉까지: " + hasPath("서울", "강릉"));  // true
        System.out.println("서울에서 안동까지: " + hasPath("서울", "안동"));  // true
        System.out.println("광주에서 부산까지: " + hasPath("광주", "부산"));  // false
        System.out.println("대전에서 목포까지: " + hasPath("대전", "목포"));  // true
        System.out.println("대구에서 목포까지: " + hasPath("대구", "목포"));  // false
    }
}
